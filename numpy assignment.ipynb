{
 "cells": [
  {
   "cell_type": "code",
   "execution_count": 2,
   "metadata": {},
   "outputs": [
    {
     "name": "stdout",
     "output_type": "stream",
     "text": [
      "[[   1    1    1    1    1]\n",
      " [   1    2    4    8   16]\n",
      " [   1    3    9   27   81]\n",
      " [   1    4   16   64  256]\n",
      " [   1    5   25  125  625]\n",
      " [   1    6   36  216 1296]\n",
      " [   1    7   49  343 2401]\n",
      " [   1    8   64  512 4096]]\n",
      "-----------------**************--------------------\n",
      "[[   1    1    1    1    1]\n",
      " [  16    8    4    2    1]\n",
      " [  81   27    9    3    1]\n",
      " [ 256   64   16    4    1]\n",
      " [ 625  125   25    5    1]\n",
      " [1296  216   36    6    1]\n",
      " [2401  343   49    7    1]\n",
      " [4096  512   64    8    1]]\n"
     ]
    }
   ],
   "source": [
    "\"\"\"\n",
    "Write a function so that the columns of the output matrix are powers of the input\n",
    "vector.\n",
    "The order of the powers is determined by the increasing boolean argument. Specifically, when\n",
    "increasing is False, the i-th output column is the input vector raised element-wise to the power\n",
    "of N - i - 1.\n",
    "\n",
    "HINT: Such a matrix with a geometric progression in each row is named for Alexandre-\n",
    "Theophile Vandermonde.\n",
    "\"\"\"\n",
    "\n",
    "import numpy as np\n",
    "\n",
    "def generate_Vandermonde(array,n,order):\n",
    "    list_of_values = []\n",
    "    for i in array:\n",
    "        for j in range(n):\n",
    "            list_of_values.append(i ** (n-j-1))\n",
    "    x = np.array(list_of_values).reshape(array.size, n)\n",
    "    if order == \"decreasing\":\n",
    "        return x\n",
    "    else:\n",
    "        return x[:,::-1]\n",
    "\n",
    "\n",
    "array = np.array([1,2,3,4,5,6,7,8])\n",
    "number = 5\n",
    "array\n",
    "print(generate_Vandermonde(array,5,order = \"increasing\"))\n",
    "print(\"-----------------**************--------------------\")\n",
    "print(generate_Vandermonde(array,5,order = \"decreasing\"))"
   ]
  },
  {
   "cell_type": "code",
   "execution_count": 11,
   "metadata": {},
   "outputs": [
    {
     "name": "stdout",
     "output_type": "stream",
     "text": [
      "output is:\n",
      "[  5.           5.66666667   8.33333333  11.66666667  15.33333333\n",
      "  37.          61.          88.         121.         154.33333333\n",
      " 204.33333333]\n"
     ]
    }
   ],
   "source": [
    "\"\"\"\n",
    "Problem Statement 2:\n",
    "Given a sequence of n values x1, x2, ..., xn and a window size k>0, the k-th moving average of\n",
    "the given sequence is defined as follows:\n",
    "The moving average sequence has n-k+1 elements as shown below.\n",
    "The moving averages with k=4 of a ten-value sequence (n=10) is shown below\n",
    "i 1 2 3 4 5 6 7 8 9 10\n",
    "===== == == == == == == == == == ==\n",
    "Input 10 20 30 40 50 60 70 80 90 100\n",
    "y1 25 = (10+20+30+40)/4\n",
    "y2 35 = (20+30+40+50)/4\n",
    "y3 45 = (30+40+50+60)/4\n",
    "y4 55 = (40+50+60+70)/4\n",
    "y5 65 = (50+60+70+80)/4\n",
    "y6 75 = (60+70+80+90)/4\n",
    "y7 85 = (70+80+90+100)/4\n",
    "Thus, the moving average sequence has n-k+1=10-4+1=7 values.\n",
    "\"\"\"\n",
    "\n",
    "import numpy as np\n",
    "def func(x, num) :\n",
    "    arr = np.cumsum(x, dtype=float)\n",
    "    arr[num:] = arr[num] - arr[:-num]\n",
    "    return ret[num - 1:] / num\n",
    "l = [3, 5, 7, 2, 8, 10, 11, 65, 72, 81, 99, 100, 150]\n",
    "print(\"output is:\")\n",
    "print(func(l,3))"
   ]
  },
  {
   "cell_type": "code",
   "execution_count": null,
   "metadata": {},
   "outputs": [],
   "source": []
  }
 ],
 "metadata": {
  "kernelspec": {
   "display_name": "Python 3",
   "language": "python",
   "name": "python3"
  },
  "language_info": {
   "codemirror_mode": {
    "name": "ipython",
    "version": 3
   },
   "file_extension": ".py",
   "mimetype": "text/x-python",
   "name": "python",
   "nbconvert_exporter": "python",
   "pygments_lexer": "ipython3",
   "version": "3.7.4"
  }
 },
 "nbformat": 4,
 "nbformat_minor": 2
}
